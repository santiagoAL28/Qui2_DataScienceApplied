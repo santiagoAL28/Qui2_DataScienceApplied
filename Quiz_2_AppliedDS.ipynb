{
  "nbformat": 4,
  "nbformat_minor": 0,
  "metadata": {
    "colab": {
      "provenance": []
    },
    "kernelspec": {
      "name": "python3",
      "display_name": "Python 3"
    },
    "language_info": {
      "name": "python"
    }
  },
  "cells": [
    {
      "cell_type": "code",
      "execution_count": 1,
      "metadata": {
        "id": "KEC-lCriwbiI"
      },
      "outputs": [],
      "source": [
        "# Quiz 1\n"
      ]
    },
    {
      "cell_type": "markdown",
      "source": [
        "# Quiz 2 \n",
        "Estudiante: Santiago Segura\n",
        "\n",
        "Código: 201617653\n",
        "\n",
        "Resolución  quiz "
      ],
      "metadata": {
        "id": "3CfJVLVtwmCy"
      }
    },
    {
      "cell_type": "code",
      "source": [
        "#Libraries\n",
        "import pandas as pd\n",
        "import matplotlib.pyplot as plt\n",
        "import numpy as np\n",
        "from sklearn import preprocessing\n",
        "from sklearn.model_selection import train_test_split\n",
        "from sklearn.linear_model import LinearRegression\n",
        "from sklearn.metrics import mean_squared_error, mean_absolute_error\n",
        "from sklearn.preprocessing import PolynomialFeatures\n",
        "from sklearn.linear_model import Ridge"
      ],
      "metadata": {
        "id": "eleeoENnxHJY"
      },
      "execution_count": 70,
      "outputs": []
    },
    {
      "cell_type": "markdown",
      "source": [
        "Leyendo archivo dataset\n"
      ],
      "metadata": {
        "id": "p9W_-O0HxIRL"
      }
    },
    {
      "cell_type": "code",
      "source": [
        "data_read=pd.read_csv('insurance.csv')"
      ],
      "metadata": {
        "id": "9meOIhSbxXx7"
      },
      "execution_count": 3,
      "outputs": []
    },
    {
      "cell_type": "code",
      "source": [
        "data_read"
      ],
      "metadata": {
        "colab": {
          "base_uri": "https://localhost:8080/",
          "height": 424
        },
        "id": "BNu0UnsPx7E0",
        "outputId": "4fa75b5a-bd44-4e9b-8f7c-be8ed5106c8f"
      },
      "execution_count": 4,
      "outputs": [
        {
          "output_type": "execute_result",
          "data": {
            "text/plain": [
              "      age     sex     bmi  children smoker     region      charges\n",
              "0      19  female  27.900         0    yes  southwest  16884.92400\n",
              "1      18    male  33.770         1     no  southeast   1725.55230\n",
              "2      28    male  33.000         3     no  southeast   4449.46200\n",
              "3      33    male  22.705         0     no  northwest  21984.47061\n",
              "4      32    male  28.880         0     no  northwest   3866.85520\n",
              "...   ...     ...     ...       ...    ...        ...          ...\n",
              "1333   50    male  30.970         3     no  northwest  10600.54830\n",
              "1334   18  female  31.920         0     no  northeast   2205.98080\n",
              "1335   18  female  36.850         0     no  southeast   1629.83350\n",
              "1336   21  female  25.800         0     no  southwest   2007.94500\n",
              "1337   61  female  29.070         0    yes  northwest  29141.36030\n",
              "\n",
              "[1338 rows x 7 columns]"
            ],
            "text/html": [
              "\n",
              "  <div id=\"df-eb89db4d-055d-42b9-b988-052a6542f3fe\">\n",
              "    <div class=\"colab-df-container\">\n",
              "      <div>\n",
              "<style scoped>\n",
              "    .dataframe tbody tr th:only-of-type {\n",
              "        vertical-align: middle;\n",
              "    }\n",
              "\n",
              "    .dataframe tbody tr th {\n",
              "        vertical-align: top;\n",
              "    }\n",
              "\n",
              "    .dataframe thead th {\n",
              "        text-align: right;\n",
              "    }\n",
              "</style>\n",
              "<table border=\"1\" class=\"dataframe\">\n",
              "  <thead>\n",
              "    <tr style=\"text-align: right;\">\n",
              "      <th></th>\n",
              "      <th>age</th>\n",
              "      <th>sex</th>\n",
              "      <th>bmi</th>\n",
              "      <th>children</th>\n",
              "      <th>smoker</th>\n",
              "      <th>region</th>\n",
              "      <th>charges</th>\n",
              "    </tr>\n",
              "  </thead>\n",
              "  <tbody>\n",
              "    <tr>\n",
              "      <th>0</th>\n",
              "      <td>19</td>\n",
              "      <td>female</td>\n",
              "      <td>27.900</td>\n",
              "      <td>0</td>\n",
              "      <td>yes</td>\n",
              "      <td>southwest</td>\n",
              "      <td>16884.92400</td>\n",
              "    </tr>\n",
              "    <tr>\n",
              "      <th>1</th>\n",
              "      <td>18</td>\n",
              "      <td>male</td>\n",
              "      <td>33.770</td>\n",
              "      <td>1</td>\n",
              "      <td>no</td>\n",
              "      <td>southeast</td>\n",
              "      <td>1725.55230</td>\n",
              "    </tr>\n",
              "    <tr>\n",
              "      <th>2</th>\n",
              "      <td>28</td>\n",
              "      <td>male</td>\n",
              "      <td>33.000</td>\n",
              "      <td>3</td>\n",
              "      <td>no</td>\n",
              "      <td>southeast</td>\n",
              "      <td>4449.46200</td>\n",
              "    </tr>\n",
              "    <tr>\n",
              "      <th>3</th>\n",
              "      <td>33</td>\n",
              "      <td>male</td>\n",
              "      <td>22.705</td>\n",
              "      <td>0</td>\n",
              "      <td>no</td>\n",
              "      <td>northwest</td>\n",
              "      <td>21984.47061</td>\n",
              "    </tr>\n",
              "    <tr>\n",
              "      <th>4</th>\n",
              "      <td>32</td>\n",
              "      <td>male</td>\n",
              "      <td>28.880</td>\n",
              "      <td>0</td>\n",
              "      <td>no</td>\n",
              "      <td>northwest</td>\n",
              "      <td>3866.85520</td>\n",
              "    </tr>\n",
              "    <tr>\n",
              "      <th>...</th>\n",
              "      <td>...</td>\n",
              "      <td>...</td>\n",
              "      <td>...</td>\n",
              "      <td>...</td>\n",
              "      <td>...</td>\n",
              "      <td>...</td>\n",
              "      <td>...</td>\n",
              "    </tr>\n",
              "    <tr>\n",
              "      <th>1333</th>\n",
              "      <td>50</td>\n",
              "      <td>male</td>\n",
              "      <td>30.970</td>\n",
              "      <td>3</td>\n",
              "      <td>no</td>\n",
              "      <td>northwest</td>\n",
              "      <td>10600.54830</td>\n",
              "    </tr>\n",
              "    <tr>\n",
              "      <th>1334</th>\n",
              "      <td>18</td>\n",
              "      <td>female</td>\n",
              "      <td>31.920</td>\n",
              "      <td>0</td>\n",
              "      <td>no</td>\n",
              "      <td>northeast</td>\n",
              "      <td>2205.98080</td>\n",
              "    </tr>\n",
              "    <tr>\n",
              "      <th>1335</th>\n",
              "      <td>18</td>\n",
              "      <td>female</td>\n",
              "      <td>36.850</td>\n",
              "      <td>0</td>\n",
              "      <td>no</td>\n",
              "      <td>southeast</td>\n",
              "      <td>1629.83350</td>\n",
              "    </tr>\n",
              "    <tr>\n",
              "      <th>1336</th>\n",
              "      <td>21</td>\n",
              "      <td>female</td>\n",
              "      <td>25.800</td>\n",
              "      <td>0</td>\n",
              "      <td>no</td>\n",
              "      <td>southwest</td>\n",
              "      <td>2007.94500</td>\n",
              "    </tr>\n",
              "    <tr>\n",
              "      <th>1337</th>\n",
              "      <td>61</td>\n",
              "      <td>female</td>\n",
              "      <td>29.070</td>\n",
              "      <td>0</td>\n",
              "      <td>yes</td>\n",
              "      <td>northwest</td>\n",
              "      <td>29141.36030</td>\n",
              "    </tr>\n",
              "  </tbody>\n",
              "</table>\n",
              "<p>1338 rows × 7 columns</p>\n",
              "</div>\n",
              "      <button class=\"colab-df-convert\" onclick=\"convertToInteractive('df-eb89db4d-055d-42b9-b988-052a6542f3fe')\"\n",
              "              title=\"Convert this dataframe to an interactive table.\"\n",
              "              style=\"display:none;\">\n",
              "        \n",
              "  <svg xmlns=\"http://www.w3.org/2000/svg\" height=\"24px\"viewBox=\"0 0 24 24\"\n",
              "       width=\"24px\">\n",
              "    <path d=\"M0 0h24v24H0V0z\" fill=\"none\"/>\n",
              "    <path d=\"M18.56 5.44l.94 2.06.94-2.06 2.06-.94-2.06-.94-.94-2.06-.94 2.06-2.06.94zm-11 1L8.5 8.5l.94-2.06 2.06-.94-2.06-.94L8.5 2.5l-.94 2.06-2.06.94zm10 10l.94 2.06.94-2.06 2.06-.94-2.06-.94-.94-2.06-.94 2.06-2.06.94z\"/><path d=\"M17.41 7.96l-1.37-1.37c-.4-.4-.92-.59-1.43-.59-.52 0-1.04.2-1.43.59L10.3 9.45l-7.72 7.72c-.78.78-.78 2.05 0 2.83L4 21.41c.39.39.9.59 1.41.59.51 0 1.02-.2 1.41-.59l7.78-7.78 2.81-2.81c.8-.78.8-2.07 0-2.86zM5.41 20L4 18.59l7.72-7.72 1.47 1.35L5.41 20z\"/>\n",
              "  </svg>\n",
              "      </button>\n",
              "      \n",
              "  <style>\n",
              "    .colab-df-container {\n",
              "      display:flex;\n",
              "      flex-wrap:wrap;\n",
              "      gap: 12px;\n",
              "    }\n",
              "\n",
              "    .colab-df-convert {\n",
              "      background-color: #E8F0FE;\n",
              "      border: none;\n",
              "      border-radius: 50%;\n",
              "      cursor: pointer;\n",
              "      display: none;\n",
              "      fill: #1967D2;\n",
              "      height: 32px;\n",
              "      padding: 0 0 0 0;\n",
              "      width: 32px;\n",
              "    }\n",
              "\n",
              "    .colab-df-convert:hover {\n",
              "      background-color: #E2EBFA;\n",
              "      box-shadow: 0px 1px 2px rgba(60, 64, 67, 0.3), 0px 1px 3px 1px rgba(60, 64, 67, 0.15);\n",
              "      fill: #174EA6;\n",
              "    }\n",
              "\n",
              "    [theme=dark] .colab-df-convert {\n",
              "      background-color: #3B4455;\n",
              "      fill: #D2E3FC;\n",
              "    }\n",
              "\n",
              "    [theme=dark] .colab-df-convert:hover {\n",
              "      background-color: #434B5C;\n",
              "      box-shadow: 0px 1px 3px 1px rgba(0, 0, 0, 0.15);\n",
              "      filter: drop-shadow(0px 1px 2px rgba(0, 0, 0, 0.3));\n",
              "      fill: #FFFFFF;\n",
              "    }\n",
              "  </style>\n",
              "\n",
              "      <script>\n",
              "        const buttonEl =\n",
              "          document.querySelector('#df-eb89db4d-055d-42b9-b988-052a6542f3fe button.colab-df-convert');\n",
              "        buttonEl.style.display =\n",
              "          google.colab.kernel.accessAllowed ? 'block' : 'none';\n",
              "\n",
              "        async function convertToInteractive(key) {\n",
              "          const element = document.querySelector('#df-eb89db4d-055d-42b9-b988-052a6542f3fe');\n",
              "          const dataTable =\n",
              "            await google.colab.kernel.invokeFunction('convertToInteractive',\n",
              "                                                     [key], {});\n",
              "          if (!dataTable) return;\n",
              "\n",
              "          const docLinkHtml = 'Like what you see? Visit the ' +\n",
              "            '<a target=\"_blank\" href=https://colab.research.google.com/notebooks/data_table.ipynb>data table notebook</a>'\n",
              "            + ' to learn more about interactive tables.';\n",
              "          element.innerHTML = '';\n",
              "          dataTable['output_type'] = 'display_data';\n",
              "          await google.colab.output.renderOutput(dataTable, element);\n",
              "          const docLink = document.createElement('div');\n",
              "          docLink.innerHTML = docLinkHtml;\n",
              "          element.appendChild(docLink);\n",
              "        }\n",
              "      </script>\n",
              "    </div>\n",
              "  </div>\n",
              "  "
            ]
          },
          "metadata": {},
          "execution_count": 4
        }
      ]
    },
    {
      "cell_type": "markdown",
      "source": [
        "Haciendo rápida exploración de datos "
      ],
      "metadata": {
        "id": "lOLeLxDGyLRM"
      }
    },
    {
      "cell_type": "code",
      "source": [
        "no_duplicados=data_read.drop_duplicates() #Se eliminan datos no duplicados"
      ],
      "metadata": {
        "id": "K1zQ_Ukvx8Fn"
      },
      "execution_count": 5,
      "outputs": []
    },
    {
      "cell_type": "code",
      "source": [
        "no_duplicados.shape # Se obtiene solo un dato duplicado"
      ],
      "metadata": {
        "colab": {
          "base_uri": "https://localhost:8080/"
        },
        "id": "tyiSMGX0yxPT",
        "outputId": "2649c4e6-276b-4a6e-d9e6-b88b908d1444"
      },
      "execution_count": 8,
      "outputs": [
        {
          "output_type": "execute_result",
          "data": {
            "text/plain": [
              "(1337, 7)"
            ]
          },
          "metadata": {},
          "execution_count": 8
        }
      ]
    },
    {
      "cell_type": "markdown",
      "source": [
        "Revisando si hay valores nulos en alguna columna"
      ],
      "metadata": {
        "id": "jnILCDyXzIg7"
      }
    },
    {
      "cell_type": "code",
      "source": [
        "no_duplicados.isna().sum()"
      ],
      "metadata": {
        "colab": {
          "base_uri": "https://localhost:8080/"
        },
        "id": "TO3My6FPyyvQ",
        "outputId": "34e33669-c39f-4b24-af1d-01a6c7094d4f"
      },
      "execution_count": 9,
      "outputs": [
        {
          "output_type": "execute_result",
          "data": {
            "text/plain": [
              "age         0\n",
              "sex         0\n",
              "bmi         0\n",
              "children    0\n",
              "smoker      0\n",
              "region      0\n",
              "charges     0\n",
              "dtype: int64"
            ]
          },
          "metadata": {},
          "execution_count": 9
        }
      ]
    },
    {
      "cell_type": "markdown",
      "source": [
        "Como no hay duplicados se procede a hacer la tranformación de los datos categoricos."
      ],
      "metadata": {
        "id": "dwnTIDbpzPgO"
      }
    },
    {
      "cell_type": "code",
      "source": [
        "no_duplicados['sex'].value_counts()"
      ],
      "metadata": {
        "colab": {
          "base_uri": "https://localhost:8080/"
        },
        "id": "tTLcnz3UzGkR",
        "outputId": "e5002a03-6b17-4fea-dc38-5a4b24286efc"
      },
      "execution_count": 11,
      "outputs": [
        {
          "output_type": "execute_result",
          "data": {
            "text/plain": [
              "male      675\n",
              "female    662\n",
              "Name: sex, dtype: int64"
            ]
          },
          "metadata": {},
          "execution_count": 11
        }
      ]
    },
    {
      "cell_type": "code",
      "source": [
        "gender_encode= preprocessing.LabelEncoder()\n",
        "gender_encode.fit(no_duplicados['sex'])"
      ],
      "metadata": {
        "colab": {
          "base_uri": "https://localhost:8080/"
        },
        "id": "ZXCwevVWzfJi",
        "outputId": "f6e317a6-f449-4fa5-d174-2064a217a17a"
      },
      "execution_count": 13,
      "outputs": [
        {
          "output_type": "execute_result",
          "data": {
            "text/plain": [
              "LabelEncoder()"
            ]
          },
          "metadata": {},
          "execution_count": 13
        }
      ]
    },
    {
      "cell_type": "code",
      "source": [
        "no_duplicados['sex_enc']=gender_encode.transform(no_duplicados['sex'])"
      ],
      "metadata": {
        "colab": {
          "base_uri": "https://localhost:8080/"
        },
        "id": "QRDsNkzo0e2N",
        "outputId": "48ca4f36-a9a9-455c-f8af-af4a8f0b4e7e"
      },
      "execution_count": 19,
      "outputs": [
        {
          "output_type": "stream",
          "name": "stderr",
          "text": [
            "/usr/local/lib/python3.7/dist-packages/ipykernel_launcher.py:1: SettingWithCopyWarning: \n",
            "A value is trying to be set on a copy of a slice from a DataFrame.\n",
            "Try using .loc[row_indexer,col_indexer] = value instead\n",
            "\n",
            "See the caveats in the documentation: https://pandas.pydata.org/pandas-docs/stable/user_guide/indexing.html#returning-a-view-versus-a-copy\n",
            "  \"\"\"Entry point for launching an IPython kernel.\n"
          ]
        }
      ]
    },
    {
      "cell_type": "code",
      "source": [
        "smoke_encode=preprocessing.LabelEncoder()\n",
        "smoke_encode.fit(no_duplicados['smoker'])"
      ],
      "metadata": {
        "colab": {
          "base_uri": "https://localhost:8080/"
        },
        "id": "pRzQwZHB0i93",
        "outputId": "2de5220b-686f-490a-e580-6edaaa4749da"
      },
      "execution_count": 22,
      "outputs": [
        {
          "output_type": "execute_result",
          "data": {
            "text/plain": [
              "LabelEncoder()"
            ]
          },
          "metadata": {},
          "execution_count": 22
        }
      ]
    },
    {
      "cell_type": "code",
      "source": [
        "no_duplicados['smoker_enc']=smoke_encode.transform(no_duplicados['smoker'])"
      ],
      "metadata": {
        "colab": {
          "base_uri": "https://localhost:8080/"
        },
        "id": "U_RDxfQK1NRY",
        "outputId": "d1d6644e-b744-4173-9386-7edbe711af6e"
      },
      "execution_count": 24,
      "outputs": [
        {
          "output_type": "stream",
          "name": "stderr",
          "text": [
            "/usr/local/lib/python3.7/dist-packages/ipykernel_launcher.py:1: SettingWithCopyWarning: \n",
            "A value is trying to be set on a copy of a slice from a DataFrame.\n",
            "Try using .loc[row_indexer,col_indexer] = value instead\n",
            "\n",
            "See the caveats in the documentation: https://pandas.pydata.org/pandas-docs/stable/user_guide/indexing.html#returning-a-view-versus-a-copy\n",
            "  \"\"\"Entry point for launching an IPython kernel.\n"
          ]
        }
      ]
    },
    {
      "cell_type": "code",
      "source": [
        "region_encode = pd.get_dummies(no_duplicados['region'], prefix='region_')"
      ],
      "metadata": {
        "id": "0pjLdo8T1q37"
      },
      "execution_count": 35,
      "outputs": []
    },
    {
      "cell_type": "code",
      "source": [
        "no_duplicados=pd.concat([no_duplicados, region_encode], axis = 1)"
      ],
      "metadata": {
        "id": "GPKQeUzL1vhk"
      },
      "execution_count": 36,
      "outputs": []
    },
    {
      "cell_type": "markdown",
      "source": [
        "Después de haber transformado las variables categoricas, se dejan las variables transformadas para empezar a trabajar  el problema de regresión"
      ],
      "metadata": {
        "id": "BI1IYtpY5Pmv"
      }
    },
    {
      "cell_type": "code",
      "source": [
        "data=no_duplicados.drop(['sex','smoker','region'],axis=1)"
      ],
      "metadata": {
        "id": "7Z_RQm0Y4B-n"
      },
      "execution_count": 38,
      "outputs": []
    },
    {
      "cell_type": "code",
      "source": [
        "data.head()"
      ],
      "metadata": {
        "colab": {
          "base_uri": "https://localhost:8080/",
          "height": 206
        },
        "id": "tF-AW4KH5NKa",
        "outputId": "0f1e2c08-7b29-40d5-b6a7-a350f9665abd"
      },
      "execution_count": 40,
      "outputs": [
        {
          "output_type": "execute_result",
          "data": {
            "text/plain": [
              "   age     bmi  children      charges  sex_enc  smoker_enc  region__northeast  \\\n",
              "0   19  27.900         0  16884.92400        0           1                  0   \n",
              "1   18  33.770         1   1725.55230        1           0                  0   \n",
              "2   28  33.000         3   4449.46200        1           0                  0   \n",
              "3   33  22.705         0  21984.47061        1           0                  0   \n",
              "4   32  28.880         0   3866.85520        1           0                  0   \n",
              "\n",
              "   region__northwest  region__southeast  region__southwest  \n",
              "0                  0                  0                  1  \n",
              "1                  0                  1                  0  \n",
              "2                  0                  1                  0  \n",
              "3                  1                  0                  0  \n",
              "4                  1                  0                  0  "
            ],
            "text/html": [
              "\n",
              "  <div id=\"df-b34d727c-acdf-43ce-b5e2-8f7064fef6ec\">\n",
              "    <div class=\"colab-df-container\">\n",
              "      <div>\n",
              "<style scoped>\n",
              "    .dataframe tbody tr th:only-of-type {\n",
              "        vertical-align: middle;\n",
              "    }\n",
              "\n",
              "    .dataframe tbody tr th {\n",
              "        vertical-align: top;\n",
              "    }\n",
              "\n",
              "    .dataframe thead th {\n",
              "        text-align: right;\n",
              "    }\n",
              "</style>\n",
              "<table border=\"1\" class=\"dataframe\">\n",
              "  <thead>\n",
              "    <tr style=\"text-align: right;\">\n",
              "      <th></th>\n",
              "      <th>age</th>\n",
              "      <th>bmi</th>\n",
              "      <th>children</th>\n",
              "      <th>charges</th>\n",
              "      <th>sex_enc</th>\n",
              "      <th>smoker_enc</th>\n",
              "      <th>region__northeast</th>\n",
              "      <th>region__northwest</th>\n",
              "      <th>region__southeast</th>\n",
              "      <th>region__southwest</th>\n",
              "    </tr>\n",
              "  </thead>\n",
              "  <tbody>\n",
              "    <tr>\n",
              "      <th>0</th>\n",
              "      <td>19</td>\n",
              "      <td>27.900</td>\n",
              "      <td>0</td>\n",
              "      <td>16884.92400</td>\n",
              "      <td>0</td>\n",
              "      <td>1</td>\n",
              "      <td>0</td>\n",
              "      <td>0</td>\n",
              "      <td>0</td>\n",
              "      <td>1</td>\n",
              "    </tr>\n",
              "    <tr>\n",
              "      <th>1</th>\n",
              "      <td>18</td>\n",
              "      <td>33.770</td>\n",
              "      <td>1</td>\n",
              "      <td>1725.55230</td>\n",
              "      <td>1</td>\n",
              "      <td>0</td>\n",
              "      <td>0</td>\n",
              "      <td>0</td>\n",
              "      <td>1</td>\n",
              "      <td>0</td>\n",
              "    </tr>\n",
              "    <tr>\n",
              "      <th>2</th>\n",
              "      <td>28</td>\n",
              "      <td>33.000</td>\n",
              "      <td>3</td>\n",
              "      <td>4449.46200</td>\n",
              "      <td>1</td>\n",
              "      <td>0</td>\n",
              "      <td>0</td>\n",
              "      <td>0</td>\n",
              "      <td>1</td>\n",
              "      <td>0</td>\n",
              "    </tr>\n",
              "    <tr>\n",
              "      <th>3</th>\n",
              "      <td>33</td>\n",
              "      <td>22.705</td>\n",
              "      <td>0</td>\n",
              "      <td>21984.47061</td>\n",
              "      <td>1</td>\n",
              "      <td>0</td>\n",
              "      <td>0</td>\n",
              "      <td>1</td>\n",
              "      <td>0</td>\n",
              "      <td>0</td>\n",
              "    </tr>\n",
              "    <tr>\n",
              "      <th>4</th>\n",
              "      <td>32</td>\n",
              "      <td>28.880</td>\n",
              "      <td>0</td>\n",
              "      <td>3866.85520</td>\n",
              "      <td>1</td>\n",
              "      <td>0</td>\n",
              "      <td>0</td>\n",
              "      <td>1</td>\n",
              "      <td>0</td>\n",
              "      <td>0</td>\n",
              "    </tr>\n",
              "  </tbody>\n",
              "</table>\n",
              "</div>\n",
              "      <button class=\"colab-df-convert\" onclick=\"convertToInteractive('df-b34d727c-acdf-43ce-b5e2-8f7064fef6ec')\"\n",
              "              title=\"Convert this dataframe to an interactive table.\"\n",
              "              style=\"display:none;\">\n",
              "        \n",
              "  <svg xmlns=\"http://www.w3.org/2000/svg\" height=\"24px\"viewBox=\"0 0 24 24\"\n",
              "       width=\"24px\">\n",
              "    <path d=\"M0 0h24v24H0V0z\" fill=\"none\"/>\n",
              "    <path d=\"M18.56 5.44l.94 2.06.94-2.06 2.06-.94-2.06-.94-.94-2.06-.94 2.06-2.06.94zm-11 1L8.5 8.5l.94-2.06 2.06-.94-2.06-.94L8.5 2.5l-.94 2.06-2.06.94zm10 10l.94 2.06.94-2.06 2.06-.94-2.06-.94-.94-2.06-.94 2.06-2.06.94z\"/><path d=\"M17.41 7.96l-1.37-1.37c-.4-.4-.92-.59-1.43-.59-.52 0-1.04.2-1.43.59L10.3 9.45l-7.72 7.72c-.78.78-.78 2.05 0 2.83L4 21.41c.39.39.9.59 1.41.59.51 0 1.02-.2 1.41-.59l7.78-7.78 2.81-2.81c.8-.78.8-2.07 0-2.86zM5.41 20L4 18.59l7.72-7.72 1.47 1.35L5.41 20z\"/>\n",
              "  </svg>\n",
              "      </button>\n",
              "      \n",
              "  <style>\n",
              "    .colab-df-container {\n",
              "      display:flex;\n",
              "      flex-wrap:wrap;\n",
              "      gap: 12px;\n",
              "    }\n",
              "\n",
              "    .colab-df-convert {\n",
              "      background-color: #E8F0FE;\n",
              "      border: none;\n",
              "      border-radius: 50%;\n",
              "      cursor: pointer;\n",
              "      display: none;\n",
              "      fill: #1967D2;\n",
              "      height: 32px;\n",
              "      padding: 0 0 0 0;\n",
              "      width: 32px;\n",
              "    }\n",
              "\n",
              "    .colab-df-convert:hover {\n",
              "      background-color: #E2EBFA;\n",
              "      box-shadow: 0px 1px 2px rgba(60, 64, 67, 0.3), 0px 1px 3px 1px rgba(60, 64, 67, 0.15);\n",
              "      fill: #174EA6;\n",
              "    }\n",
              "\n",
              "    [theme=dark] .colab-df-convert {\n",
              "      background-color: #3B4455;\n",
              "      fill: #D2E3FC;\n",
              "    }\n",
              "\n",
              "    [theme=dark] .colab-df-convert:hover {\n",
              "      background-color: #434B5C;\n",
              "      box-shadow: 0px 1px 3px 1px rgba(0, 0, 0, 0.15);\n",
              "      filter: drop-shadow(0px 1px 2px rgba(0, 0, 0, 0.3));\n",
              "      fill: #FFFFFF;\n",
              "    }\n",
              "  </style>\n",
              "\n",
              "      <script>\n",
              "        const buttonEl =\n",
              "          document.querySelector('#df-b34d727c-acdf-43ce-b5e2-8f7064fef6ec button.colab-df-convert');\n",
              "        buttonEl.style.display =\n",
              "          google.colab.kernel.accessAllowed ? 'block' : 'none';\n",
              "\n",
              "        async function convertToInteractive(key) {\n",
              "          const element = document.querySelector('#df-b34d727c-acdf-43ce-b5e2-8f7064fef6ec');\n",
              "          const dataTable =\n",
              "            await google.colab.kernel.invokeFunction('convertToInteractive',\n",
              "                                                     [key], {});\n",
              "          if (!dataTable) return;\n",
              "\n",
              "          const docLinkHtml = 'Like what you see? Visit the ' +\n",
              "            '<a target=\"_blank\" href=https://colab.research.google.com/notebooks/data_table.ipynb>data table notebook</a>'\n",
              "            + ' to learn more about interactive tables.';\n",
              "          element.innerHTML = '';\n",
              "          dataTable['output_type'] = 'display_data';\n",
              "          await google.colab.output.renderOutput(dataTable, element);\n",
              "          const docLink = document.createElement('div');\n",
              "          docLink.innerHTML = docLinkHtml;\n",
              "          element.appendChild(docLink);\n",
              "        }\n",
              "      </script>\n",
              "    </div>\n",
              "  </div>\n",
              "  "
            ]
          },
          "metadata": {},
          "execution_count": 40
        }
      ]
    },
    {
      "cell_type": "code",
      "source": [
        "X=data.drop('charges',axis=1)\n",
        "Y=data['charges']"
      ],
      "metadata": {
        "id": "1OcIIQMH6DCF"
      },
      "execution_count": 43,
      "outputs": []
    },
    {
      "cell_type": "code",
      "source": [
        "X_train, X_test, y_train, y_test = train_test_split(X, Y, random_state=42)"
      ],
      "metadata": {
        "id": "HQLWSvCo622s"
      },
      "execution_count": 47,
      "outputs": []
    },
    {
      "cell_type": "code",
      "source": [
        "X_train.shape"
      ],
      "metadata": {
        "colab": {
          "base_uri": "https://localhost:8080/"
        },
        "id": "oiCXeDga63fE",
        "outputId": "d0477a94-2cc4-4574-8b68-3d84ac19e98c"
      },
      "execution_count": 48,
      "outputs": [
        {
          "output_type": "execute_result",
          "data": {
            "text/plain": [
              "(1002, 9)"
            ]
          },
          "metadata": {},
          "execution_count": 48
        }
      ]
    },
    {
      "cell_type": "code",
      "source": [
        "X_test.shape"
      ],
      "metadata": {
        "colab": {
          "base_uri": "https://localhost:8080/"
        },
        "id": "F-daKHN87r0s",
        "outputId": "faaf4651-2906-4012-d4f1-9cc6fb073084"
      },
      "execution_count": 49,
      "outputs": [
        {
          "output_type": "execute_result",
          "data": {
            "text/plain": [
              "(335, 9)"
            ]
          },
          "metadata": {},
          "execution_count": 49
        }
      ]
    },
    {
      "cell_type": "code",
      "source": [
        "#Estandarizando las variables X\n",
        "scaler_x=preprocessing.StandardScaler().fit(X_train)\n",
        "X_train_norm=scaler_x.transform(X_train)\n",
        "X_test_norm=scaler_x.transform(X_test)"
      ],
      "metadata": {
        "id": "6TKuadsM7uA9"
      },
      "execution_count": 51,
      "outputs": []
    },
    {
      "cell_type": "markdown",
      "source": [
        "Entrenando el primer modelo sin regularización "
      ],
      "metadata": {
        "id": "ulWwY3sy9erx"
      }
    },
    {
      "cell_type": "code",
      "source": [
        "lin_reg=LinearRegression()\n",
        "lin_reg.fit(X_train_norm,y_train)"
      ],
      "metadata": {
        "colab": {
          "base_uri": "https://localhost:8080/"
        },
        "id": "KJEig2eH83Or",
        "outputId": "0472ada8-5f20-465e-9335-c3cfb3b6a70f"
      },
      "execution_count": 53,
      "outputs": [
        {
          "output_type": "execute_result",
          "data": {
            "text/plain": [
              "LinearRegression()"
            ]
          },
          "metadata": {},
          "execution_count": 53
        }
      ]
    },
    {
      "cell_type": "code",
      "source": [
        "y_predict_train=lin_reg.predict(X_train_norm)\n",
        "y_predict_test=lin_reg.predict(X_test_norm)"
      ],
      "metadata": {
        "id": "BcNJsiIv_MO3"
      },
      "execution_count": 59,
      "outputs": []
    },
    {
      "cell_type": "markdown",
      "source": [
        "Revisando errores"
      ],
      "metadata": {
        "id": "jt-KL_KNAEx0"
      }
    },
    {
      "cell_type": "code",
      "source": [
        "#training\n",
        "mae_train=mean_absolute_error(y_train, y_predict_train)\n",
        "rmse_train=np.sqrt(mean_squared_error(y_train,y_predict_train))\n",
        "mae_test=mean_absolute_error(y_test, y_predict_test)\n",
        "rmse_test=np.sqrt(mean_squared_error(y_test,y_predict_test))\n",
        "\n",
        "print('El MAE para entrenamiento es {}, en test es {} '.format(mae_train,mae_test))\n",
        "\n",
        "print('El RMS para entrenamiento es {}, en test es {} '.format(rmse_train,rmse_test))"
      ],
      "metadata": {
        "colab": {
          "base_uri": "https://localhost:8080/"
        },
        "id": "hsn5yW8U_oaq",
        "outputId": "25bfd547-f474-43f1-d1cc-2a41aaf6132c"
      },
      "execution_count": 64,
      "outputs": [
        {
          "output_type": "stream",
          "name": "stdout",
          "text": [
            "El MAE para entrenamiento es 4207.729191870496, en test es 4069.039466161753 \n",
            "El RMS para entrenamiento es 6097.720119601683, en test es 5940.0271692232745 \n"
          ]
        }
      ]
    },
    {
      "cell_type": "markdown",
      "source": [
        "I. Como se puede ver en este caso el error en entrenamiento, es un eror de 6.097 dolares. Que en este caso es un error  no muy alto pero que se puede mejorar. Para el caso de test es un valor muy parecido también, de hecho disminuye para el caso de test.\n",
        "\n",
        "\n",
        "II. La diferencia entre los errores de entrenamiento y test no son muy altos por lo que no se puede evidenciar que haya oerfitting. Un caso de overfitting sería en donde el error en entrenamiento sea mucho más bajon que en el de test, esto significaría que en el entrenamiento el modelo se ajusto mucho a los datos de entrenamiento."
      ],
      "metadata": {
        "id": "BGro3S1UCgYR"
      }
    },
    {
      "cell_type": "code",
      "source": [
        "lin_reg.score(X_train_norm,y_train) #Entrenamiento"
      ],
      "metadata": {
        "colab": {
          "base_uri": "https://localhost:8080/"
        },
        "id": "2j-M7bnk_spw",
        "outputId": "066abeb6-0be6-4057-a6c4-acf7236ab416"
      },
      "execution_count": 66,
      "outputs": [
        {
          "output_type": "execute_result",
          "data": {
            "text/plain": [
              "0.7297491098061568"
            ]
          },
          "metadata": {},
          "execution_count": 66
        }
      ]
    },
    {
      "cell_type": "code",
      "source": [
        "lin_reg.score(X_test_norm,y_test) #Test"
      ],
      "metadata": {
        "colab": {
          "base_uri": "https://localhost:8080/"
        },
        "id": "FCxfWUpOEW23",
        "outputId": "3b2e6c8a-10ec-441e-c2da-35b40a41295f"
      },
      "execution_count": 67,
      "outputs": [
        {
          "output_type": "execute_result",
          "data": {
            "text/plain": [
              "0.7959403124253077"
            ]
          },
          "metadata": {},
          "execution_count": 67
        }
      ]
    },
    {
      "cell_type": "markdown",
      "source": [
        "# Punto 2"
      ],
      "metadata": {
        "id": "TnU8B_ouF6Jc"
      }
    },
    {
      "cell_type": "markdown",
      "source": [
        "Se selecciona un polinomio de grado 2 y grado 6, se procede a hacer la tansformacion"
      ],
      "metadata": {
        "id": "MItbGvJ-Gb5q"
      }
    },
    {
      "cell_type": "code",
      "source": [
        "poly_2=PolynomialFeatures(degree=2, include_bias=False)\n",
        "poly_6=PolynomialFeatures(degree=6, include_bias=False)"
      ],
      "metadata": {
        "id": "gWx4oGgrExE8"
      },
      "execution_count": 71,
      "outputs": []
    },
    {
      "cell_type": "code",
      "source": [
        "# Valores de x con grado 2\n",
        "X_train_2=poly_2.fit_transform(X_train_norm)\n",
        "X_test_2=poly_2.fit_transform(X_test_norm)\n",
        "X_train_2.shape"
      ],
      "metadata": {
        "colab": {
          "base_uri": "https://localhost:8080/"
        },
        "id": "frTgv2QzHTox",
        "outputId": "001571a1-0c98-465c-9590-75f8ee9fd27d"
      },
      "execution_count": 79,
      "outputs": [
        {
          "output_type": "execute_result",
          "data": {
            "text/plain": [
              "(1002, 54)"
            ]
          },
          "metadata": {},
          "execution_count": 79
        }
      ]
    },
    {
      "cell_type": "code",
      "source": [
        "# Valores de x con grado 6\n",
        "X_train_6=poly_6.fit_transform(X_train_norm)\n",
        "X_test_6=poly_6.fit_transform(X_test_norm)\n",
        "X_train_6.shape"
      ],
      "metadata": {
        "colab": {
          "base_uri": "https://localhost:8080/"
        },
        "id": "D1S2NoxYHpVB",
        "outputId": "da31d88a-d44e-4620-ad9c-33cd9466fdfd"
      },
      "execution_count": 80,
      "outputs": [
        {
          "output_type": "execute_result",
          "data": {
            "text/plain": [
              "(1002, 5004)"
            ]
          },
          "metadata": {},
          "execution_count": 80
        }
      ]
    },
    {
      "cell_type": "code",
      "source": [
        "#variando el valor de alpha para regularizacion ridge \n",
        "alphas=[0.001,0.1,1,10]\n",
        "print('Para polinomio de grado 2')\n",
        "for i in alphas:\n",
        "\n",
        "  ridge_reg=Ridge(alpha=i,solver='cholesky')\n",
        "  ridge_reg.fit(X_train_2,y_train)\n",
        "  y_train_ridge=ridge_reg.predict(X_train_2)\n",
        "  y_test_ridge=ridge_reg.predict(X_test_2)\n",
        "  mae_train=mean_absolute_error(y_train_ridge, y_train)\n",
        "  rmse_train=np.sqrt(mean_squared_error(y_train_ridge,y_train))\n",
        "  mae_test=mean_absolute_error(y_test, y_test_ridge)\n",
        "  rmse_test=np.sqrt(mean_squared_error(y_test,y_test_ridge))\n",
        "  print('Para alpha {}'.format(i))\n",
        "  print('El MAE para entrenamiento es {}, en test es {} '.format(mae_train,mae_test))\n",
        "  print('El RMS para entrenamiento es {}, en test es {} '.format(rmse_train,rmse_test))\n",
        "  print('\\n')"
      ],
      "metadata": {
        "colab": {
          "base_uri": "https://localhost:8080/"
        },
        "id": "Y1E8d0XvHuZK",
        "outputId": "77f0f4bf-0277-4f51-9421-a28e60e26e0a"
      },
      "execution_count": 99,
      "outputs": [
        {
          "output_type": "stream",
          "name": "stdout",
          "text": [
            "Para polinomio de grado 2\n",
            "Para alpha 0.001\n",
            "El MAE para entrenamiento es 2885.722687832908, en test es 2856.601795934719 \n",
            "El RMS para entrenamiento es 4764.553583667883, en test es 4694.264812852181 \n",
            "\n",
            "\n",
            "Para alpha 0.1\n",
            "El MAE para entrenamiento es 2885.8197192928637, en test es 2856.697965413166 \n",
            "El RMS para entrenamiento es 4764.553634252683, en test es 4694.285078916484 \n",
            "\n",
            "\n",
            "Para alpha 1\n",
            "El MAE para entrenamiento es 2886.701316806681, en test es 2857.5718199721623 \n",
            "El RMS para entrenamiento es 4764.558632626487, en test es 4694.476183490719 \n",
            "\n",
            "\n",
            "Para alpha 10\n",
            "El MAE para entrenamiento es 2895.701034057508, en test es 2866.3081199338853 \n",
            "El RMS para entrenamiento es 4765.048627406208, en test es 4697.052035911004 \n",
            "\n",
            "\n"
          ]
        }
      ]
    },
    {
      "cell_type": "code",
      "source": [
        "#variando el valor de alpha para regularizacion ridge \n",
        "alphas=[0.001,0.1,1,10]\n",
        "print('Para polinomio de grado 6')\n",
        "for i in alphas:\n",
        "\n",
        "  ridge_reg=Ridge(alpha=i,solver='cholesky')\n",
        "  ridge_reg.fit(X_train_6,y_train)\n",
        "  y_train_ridge=ridge_reg.predict(X_train_6)\n",
        "  y_test_ridge=ridge_reg.predict(X_test_6)\n",
        "  mae_train=mean_absolute_error(y_train_ridge, y_train)\n",
        "  rmse_train=np.sqrt(mean_squared_error(y_train_ridge,y_train))\n",
        "  mae_test=mean_absolute_error(y_test, y_test_ridge)\n",
        "  rmse_test=np.sqrt(mean_squared_error(y_test,y_test_ridge))\n",
        "  print('Para alpha {}'.format(i))\n",
        "  print('El MAE para entrenamiento es {}, en test es {} '.format(mae_train,mae_test))\n",
        "  print('El RMS para entrenamiento es {}, en test es {} '.format(rmse_train,rmse_test))\n",
        "  print('\\n')"
      ],
      "metadata": {
        "colab": {
          "base_uri": "https://localhost:8080/"
        },
        "id": "lM-YmsNQJahX",
        "outputId": "a1cd462b-6110-4360-bdf0-9bffe3572a96"
      },
      "execution_count": 98,
      "outputs": [
        {
          "output_type": "stream",
          "name": "stdout",
          "text": [
            "Para polinomio de grado 6\n",
            "Para alpha 0.001\n",
            "El MAE para entrenamiento es 1543.1583356939482, en test es 114677.19475176786 \n",
            "El RMS para entrenamiento es 2794.53042244029, en test es 411240.5043626642 \n",
            "\n",
            "\n",
            "Para alpha 0.1\n",
            "El MAE para entrenamiento es 1585.096131439866, en test es 22984.700719226475 \n",
            "El RMS para entrenamiento es 2823.5616482930513, en test es 74382.36511853247 \n",
            "\n",
            "\n",
            "Para alpha 1\n",
            "El MAE para entrenamiento es 1627.7878842407895, en test es 13777.00706903319 \n",
            "El RMS para entrenamiento es 2860.865249173887, en test es 36752.04985738337 \n",
            "\n",
            "\n",
            "Para alpha 10\n",
            "El MAE para entrenamiento es 1701.072623126765, en test es 8025.745796768747 \n",
            "El RMS para entrenamiento es 3009.7427565052208, en test es 19068.893295629918 \n",
            "\n",
            "\n"
          ]
        }
      ]
    },
    {
      "cell_type": "code",
      "source": [],
      "metadata": {
        "id": "k-y1hNLdKVHz"
      },
      "execution_count": null,
      "outputs": []
    },
    {
      "cell_type": "markdown",
      "source": [
        "i. ¿ Fue posible mejorar el error? Hiper-parámetros que tiene el modelo que produce menor error\n",
        "\n",
        "Sí. Si se comparan los RMS y MAE de los casos polinomicos y grado dos con el modelo realizado para solo regresión lineal se puede observar que diminuyeron en los modelos para grado 2. Para los de grado 6 se puede observar que en el caso de los errores en test aumentan en comparacion a los de grado 2 y la regresión lineal.\n",
        "\n",
        "Los errores más bajos se obtienen cuando el modelo tiene grado 2, y alpha de 0.001\n",
        "\n",
        "El MAE para entrenamiento es 2885.722687832908, en test es 2856.601795934719 \n",
        "El RMS para entrenamiento es 4764.553583667883, en test es 4694.264812852181"
      ],
      "metadata": {
        "id": "pyumdfc5Mve8"
      }
    },
    {
      "cell_type": "markdown",
      "source": [
        "II. Atributos más importantes para hacer predicción"
      ],
      "metadata": {
        "id": "N0qGULXzOGhG"
      }
    },
    {
      "cell_type": "code",
      "source": [
        "lin_reg.coef_"
      ],
      "metadata": {
        "colab": {
          "base_uri": "https://localhost:8080/"
        },
        "id": "5hxwz7LjOJ2g",
        "outputId": "9f6875f7-2d93-4434-e3fc-f5242d6170eb"
      },
      "execution_count": 103,
      "outputs": [
        {
          "output_type": "execute_result",
          "data": {
            "text/plain": [
              "array([3422.72524125, 1933.67138975,  627.41190011,  -11.72446292,\n",
              "       9317.08208074,  202.74292671,   18.2473516 , -177.53891735,\n",
              "        -33.1868679 ])"
            ]
          },
          "metadata": {},
          "execution_count": 103
        }
      ]
    },
    {
      "cell_type": "code",
      "source": [
        "X_train"
      ],
      "metadata": {
        "colab": {
          "base_uri": "https://localhost:8080/",
          "height": 424
        },
        "id": "DrunSwOrOM2U",
        "outputId": "28954ead-6fc0-4e53-c78a-005dfdcd3c3c"
      },
      "execution_count": 105,
      "outputs": [
        {
          "output_type": "execute_result",
          "data": {
            "text/plain": [
              "      age    bmi  children  sex_enc  smoker_enc  region__northeast  \\\n",
              "763    27  26.03         0        1           0                  1   \n",
              "1079   63  33.66         3        1           0                  0   \n",
              "178    46  28.90         2        0           0                  0   \n",
              "287    63  26.22         0        0           0                  0   \n",
              "1290   38  19.95         2        0           0                  1   \n",
              "...   ...    ...       ...      ...         ...                ...   \n",
              "1096   51  34.96         2        0           1                  1   \n",
              "1131   27  45.90         2        1           0                  0   \n",
              "1295   20  22.00         1        1           0                  0   \n",
              "861    38  28.00         3        0           0                  0   \n",
              "1127   35  35.86         2        0           0                  0   \n",
              "\n",
              "      region__northwest  region__southeast  region__southwest  \n",
              "763                   0                  0                  0  \n",
              "1079                  0                  1                  0  \n",
              "178                   0                  0                  1  \n",
              "287                   1                  0                  0  \n",
              "1290                  0                  0                  0  \n",
              "...                 ...                ...                ...  \n",
              "1096                  0                  0                  0  \n",
              "1131                  0                  0                  1  \n",
              "1295                  0                  0                  1  \n",
              "861                   0                  0                  1  \n",
              "1127                  0                  1                  0  \n",
              "\n",
              "[1002 rows x 9 columns]"
            ],
            "text/html": [
              "\n",
              "  <div id=\"df-1a8afd0e-f473-4729-a555-e817ac274fd1\">\n",
              "    <div class=\"colab-df-container\">\n",
              "      <div>\n",
              "<style scoped>\n",
              "    .dataframe tbody tr th:only-of-type {\n",
              "        vertical-align: middle;\n",
              "    }\n",
              "\n",
              "    .dataframe tbody tr th {\n",
              "        vertical-align: top;\n",
              "    }\n",
              "\n",
              "    .dataframe thead th {\n",
              "        text-align: right;\n",
              "    }\n",
              "</style>\n",
              "<table border=\"1\" class=\"dataframe\">\n",
              "  <thead>\n",
              "    <tr style=\"text-align: right;\">\n",
              "      <th></th>\n",
              "      <th>age</th>\n",
              "      <th>bmi</th>\n",
              "      <th>children</th>\n",
              "      <th>sex_enc</th>\n",
              "      <th>smoker_enc</th>\n",
              "      <th>region__northeast</th>\n",
              "      <th>region__northwest</th>\n",
              "      <th>region__southeast</th>\n",
              "      <th>region__southwest</th>\n",
              "    </tr>\n",
              "  </thead>\n",
              "  <tbody>\n",
              "    <tr>\n",
              "      <th>763</th>\n",
              "      <td>27</td>\n",
              "      <td>26.03</td>\n",
              "      <td>0</td>\n",
              "      <td>1</td>\n",
              "      <td>0</td>\n",
              "      <td>1</td>\n",
              "      <td>0</td>\n",
              "      <td>0</td>\n",
              "      <td>0</td>\n",
              "    </tr>\n",
              "    <tr>\n",
              "      <th>1079</th>\n",
              "      <td>63</td>\n",
              "      <td>33.66</td>\n",
              "      <td>3</td>\n",
              "      <td>1</td>\n",
              "      <td>0</td>\n",
              "      <td>0</td>\n",
              "      <td>0</td>\n",
              "      <td>1</td>\n",
              "      <td>0</td>\n",
              "    </tr>\n",
              "    <tr>\n",
              "      <th>178</th>\n",
              "      <td>46</td>\n",
              "      <td>28.90</td>\n",
              "      <td>2</td>\n",
              "      <td>0</td>\n",
              "      <td>0</td>\n",
              "      <td>0</td>\n",
              "      <td>0</td>\n",
              "      <td>0</td>\n",
              "      <td>1</td>\n",
              "    </tr>\n",
              "    <tr>\n",
              "      <th>287</th>\n",
              "      <td>63</td>\n",
              "      <td>26.22</td>\n",
              "      <td>0</td>\n",
              "      <td>0</td>\n",
              "      <td>0</td>\n",
              "      <td>0</td>\n",
              "      <td>1</td>\n",
              "      <td>0</td>\n",
              "      <td>0</td>\n",
              "    </tr>\n",
              "    <tr>\n",
              "      <th>1290</th>\n",
              "      <td>38</td>\n",
              "      <td>19.95</td>\n",
              "      <td>2</td>\n",
              "      <td>0</td>\n",
              "      <td>0</td>\n",
              "      <td>1</td>\n",
              "      <td>0</td>\n",
              "      <td>0</td>\n",
              "      <td>0</td>\n",
              "    </tr>\n",
              "    <tr>\n",
              "      <th>...</th>\n",
              "      <td>...</td>\n",
              "      <td>...</td>\n",
              "      <td>...</td>\n",
              "      <td>...</td>\n",
              "      <td>...</td>\n",
              "      <td>...</td>\n",
              "      <td>...</td>\n",
              "      <td>...</td>\n",
              "      <td>...</td>\n",
              "    </tr>\n",
              "    <tr>\n",
              "      <th>1096</th>\n",
              "      <td>51</td>\n",
              "      <td>34.96</td>\n",
              "      <td>2</td>\n",
              "      <td>0</td>\n",
              "      <td>1</td>\n",
              "      <td>1</td>\n",
              "      <td>0</td>\n",
              "      <td>0</td>\n",
              "      <td>0</td>\n",
              "    </tr>\n",
              "    <tr>\n",
              "      <th>1131</th>\n",
              "      <td>27</td>\n",
              "      <td>45.90</td>\n",
              "      <td>2</td>\n",
              "      <td>1</td>\n",
              "      <td>0</td>\n",
              "      <td>0</td>\n",
              "      <td>0</td>\n",
              "      <td>0</td>\n",
              "      <td>1</td>\n",
              "    </tr>\n",
              "    <tr>\n",
              "      <th>1295</th>\n",
              "      <td>20</td>\n",
              "      <td>22.00</td>\n",
              "      <td>1</td>\n",
              "      <td>1</td>\n",
              "      <td>0</td>\n",
              "      <td>0</td>\n",
              "      <td>0</td>\n",
              "      <td>0</td>\n",
              "      <td>1</td>\n",
              "    </tr>\n",
              "    <tr>\n",
              "      <th>861</th>\n",
              "      <td>38</td>\n",
              "      <td>28.00</td>\n",
              "      <td>3</td>\n",
              "      <td>0</td>\n",
              "      <td>0</td>\n",
              "      <td>0</td>\n",
              "      <td>0</td>\n",
              "      <td>0</td>\n",
              "      <td>1</td>\n",
              "    </tr>\n",
              "    <tr>\n",
              "      <th>1127</th>\n",
              "      <td>35</td>\n",
              "      <td>35.86</td>\n",
              "      <td>2</td>\n",
              "      <td>0</td>\n",
              "      <td>0</td>\n",
              "      <td>0</td>\n",
              "      <td>0</td>\n",
              "      <td>1</td>\n",
              "      <td>0</td>\n",
              "    </tr>\n",
              "  </tbody>\n",
              "</table>\n",
              "<p>1002 rows × 9 columns</p>\n",
              "</div>\n",
              "      <button class=\"colab-df-convert\" onclick=\"convertToInteractive('df-1a8afd0e-f473-4729-a555-e817ac274fd1')\"\n",
              "              title=\"Convert this dataframe to an interactive table.\"\n",
              "              style=\"display:none;\">\n",
              "        \n",
              "  <svg xmlns=\"http://www.w3.org/2000/svg\" height=\"24px\"viewBox=\"0 0 24 24\"\n",
              "       width=\"24px\">\n",
              "    <path d=\"M0 0h24v24H0V0z\" fill=\"none\"/>\n",
              "    <path d=\"M18.56 5.44l.94 2.06.94-2.06 2.06-.94-2.06-.94-.94-2.06-.94 2.06-2.06.94zm-11 1L8.5 8.5l.94-2.06 2.06-.94-2.06-.94L8.5 2.5l-.94 2.06-2.06.94zm10 10l.94 2.06.94-2.06 2.06-.94-2.06-.94-.94-2.06-.94 2.06-2.06.94z\"/><path d=\"M17.41 7.96l-1.37-1.37c-.4-.4-.92-.59-1.43-.59-.52 0-1.04.2-1.43.59L10.3 9.45l-7.72 7.72c-.78.78-.78 2.05 0 2.83L4 21.41c.39.39.9.59 1.41.59.51 0 1.02-.2 1.41-.59l7.78-7.78 2.81-2.81c.8-.78.8-2.07 0-2.86zM5.41 20L4 18.59l7.72-7.72 1.47 1.35L5.41 20z\"/>\n",
              "  </svg>\n",
              "      </button>\n",
              "      \n",
              "  <style>\n",
              "    .colab-df-container {\n",
              "      display:flex;\n",
              "      flex-wrap:wrap;\n",
              "      gap: 12px;\n",
              "    }\n",
              "\n",
              "    .colab-df-convert {\n",
              "      background-color: #E8F0FE;\n",
              "      border: none;\n",
              "      border-radius: 50%;\n",
              "      cursor: pointer;\n",
              "      display: none;\n",
              "      fill: #1967D2;\n",
              "      height: 32px;\n",
              "      padding: 0 0 0 0;\n",
              "      width: 32px;\n",
              "    }\n",
              "\n",
              "    .colab-df-convert:hover {\n",
              "      background-color: #E2EBFA;\n",
              "      box-shadow: 0px 1px 2px rgba(60, 64, 67, 0.3), 0px 1px 3px 1px rgba(60, 64, 67, 0.15);\n",
              "      fill: #174EA6;\n",
              "    }\n",
              "\n",
              "    [theme=dark] .colab-df-convert {\n",
              "      background-color: #3B4455;\n",
              "      fill: #D2E3FC;\n",
              "    }\n",
              "\n",
              "    [theme=dark] .colab-df-convert:hover {\n",
              "      background-color: #434B5C;\n",
              "      box-shadow: 0px 1px 3px 1px rgba(0, 0, 0, 0.15);\n",
              "      filter: drop-shadow(0px 1px 2px rgba(0, 0, 0, 0.3));\n",
              "      fill: #FFFFFF;\n",
              "    }\n",
              "  </style>\n",
              "\n",
              "      <script>\n",
              "        const buttonEl =\n",
              "          document.querySelector('#df-1a8afd0e-f473-4729-a555-e817ac274fd1 button.colab-df-convert');\n",
              "        buttonEl.style.display =\n",
              "          google.colab.kernel.accessAllowed ? 'block' : 'none';\n",
              "\n",
              "        async function convertToInteractive(key) {\n",
              "          const element = document.querySelector('#df-1a8afd0e-f473-4729-a555-e817ac274fd1');\n",
              "          const dataTable =\n",
              "            await google.colab.kernel.invokeFunction('convertToInteractive',\n",
              "                                                     [key], {});\n",
              "          if (!dataTable) return;\n",
              "\n",
              "          const docLinkHtml = 'Like what you see? Visit the ' +\n",
              "            '<a target=\"_blank\" href=https://colab.research.google.com/notebooks/data_table.ipynb>data table notebook</a>'\n",
              "            + ' to learn more about interactive tables.';\n",
              "          element.innerHTML = '';\n",
              "          dataTable['output_type'] = 'display_data';\n",
              "          await google.colab.output.renderOutput(dataTable, element);\n",
              "          const docLink = document.createElement('div');\n",
              "          docLink.innerHTML = docLinkHtml;\n",
              "          element.appendChild(docLink);\n",
              "        }\n",
              "      </script>\n",
              "    </div>\n",
              "  </div>\n",
              "  "
            ]
          },
          "metadata": {},
          "execution_count": 105
        }
      ]
    },
    {
      "cell_type": "markdown",
      "source": [
        "Como se puede ver de los coeficientes de la regresión, los qque más peso tienen son smoker,edad y bmi. "
      ],
      "metadata": {
        "id": "HG-5_CjxPZXi"
      }
    },
    {
      "cell_type": "code",
      "source": [],
      "metadata": {
        "id": "Flt7O-kzPgTT"
      },
      "execution_count": null,
      "outputs": []
    }
  ]
}